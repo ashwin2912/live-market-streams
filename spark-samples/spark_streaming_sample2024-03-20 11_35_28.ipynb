{
 "cells": [
  {
   "cell_type": "code",
   "execution_count": 1,
   "metadata": {},
   "outputs": [],
   "source": [
    "from pyspark.sql import SparkSession"
   ]
  },
  {
   "cell_type": "code",
   "execution_count": null,
   "metadata": {
    "application/vnd.databricks.v1+cell": {
     "cellMetadata": {
      "byteLimit": 2048000,
      "rowLimit": 10000
     },
     "inputWidgets": {},
     "nuid": "72ca3f06-1ed3-4049-9e93-5cd81cce83c6",
     "showTitle": false,
     "title": ""
    }
   },
   "outputs": [],
   "source": [
    "from pyspark import SparkContext\n",
    "from pyspark.streaming import StreamingContext\n",
    "from pyspark.sql.types import *\n",
    "from pyspark.sql.functions import *"
   ]
  },
  {
   "cell_type": "code",
   "execution_count": null,
   "metadata": {
    "application/vnd.databricks.v1+cell": {
     "cellMetadata": {
      "byteLimit": 2048000,
      "rowLimit": 10000
     },
     "inputWidgets": {},
     "nuid": "b40b1cf9-0f76-4deb-99eb-1c714b454a35",
     "showTitle": false,
     "title": ""
    }
   },
   "outputs": [],
   "source": [
    "file_location = \"/FileStore/tables/sample-json/\""
   ]
  },
  {
   "cell_type": "code",
   "execution_count": null,
   "metadata": {
    "application/vnd.databricks.v1+cell": {
     "cellMetadata": {
      "byteLimit": 2048000,
      "rowLimit": 10000
     },
     "inputWidgets": {},
     "nuid": "f60adff1-3764-4233-bcfa-ef07d6ae8874",
     "showTitle": false,
     "title": ""
    }
   },
   "outputs": [
    {
     "data": {
      "text/html": [
       "<style scoped>\n",
       "  .ansiout {\n",
       "    display: block;\n",
       "    unicode-bidi: embed;\n",
       "    white-space: pre-wrap;\n",
       "    word-wrap: break-word;\n",
       "    word-break: break-all;\n",
       "    font-family: \"Menlo\", \"Monaco\", \"Consolas\", \"Ubuntu Mono\", \"Source Code Pro\", monospace;\n",
       "    font-size: 13px;\n",
       "    color: #555;\n",
       "    margin-left: 4px;\n",
       "    line-height: 19px;\n",
       "  }\n",
       "</style>\n",
       "<div class=\"ansiout\">{&quot;name&quot;:&quot;Ashwin&quot;,&quot;role&quot;:&quot;Student&quot;}\n",
       "\n",
       "</div>"
      ]
     },
     "metadata": {
      "application/vnd.databricks.v1+output": {
       "addedWidgets": {},
       "arguments": {},
       "data": "<div class=\"ansiout\">{&quot;name&quot;:&quot;Ashwin&quot;,&quot;role&quot;:&quot;Student&quot;}\n\n</div>",
       "datasetInfos": [],
       "metadata": {
        "isDbfsCommandResult": false
       },
       "removedWidgets": [],
       "type": "html"
      }
     },
     "output_type": "display_data"
    }
   ],
   "source": [
    "%fs head /FileStore/tables/sample/sample_data.json\n",
    "/FileStore/tables/sample-json/incremental_jsons_with_time.json"
   ]
  },
  {
   "cell_type": "code",
   "execution_count": null,
   "metadata": {
    "application/vnd.databricks.v1+cell": {
     "cellMetadata": {
      "byteLimit": 2048000,
      "rowLimit": 10000
     },
     "inputWidgets": {},
     "nuid": "ea2081c4-7e48-4543-8360-e5473674d25f",
     "showTitle": false,
     "title": ""
    }
   },
   "outputs": [],
   "source": [
    "# Define the schema to speed up processing\n",
    "jsonSchema = StructType([StructField(\"time\", TimestampType(), True), StructField(\"name\", StringType(), True), StructField(\"role\", StringType(), True) ])\n",
    " \n",
    "streamingInputDF = (\n",
    "  spark\n",
    "    .readStream\n",
    "    .schema(jsonSchema)              \n",
    "    .option(\"maxFilesPerTrigger\", 1)  \n",
    "    .json(file_location)\n",
    ")\n",
    "\n",
    "streamingCountsDF = (\n",
    "    streamingInputDF\n",
    "    .groupBy(\n",
    "      streamingInputDF.role,\n",
    "      window(streamingInputDF.time, \"1 hour\"))\n",
    "    .count()\n",
    ")"
   ]
  },
  {
   "cell_type": "code",
   "execution_count": null,
   "metadata": {
    "application/vnd.databricks.v1+cell": {
     "cellMetadata": {
      "byteLimit": 2048000,
      "rowLimit": 10000
     },
     "inputWidgets": {},
     "nuid": "e7e38a8a-bccf-48c3-a3e5-ae2c6b1c1dbd",
     "showTitle": false,
     "title": ""
    }
   },
   "outputs": [],
   "source": [
    "query = (\n",
    "  streamingCountsDF\n",
    "    .writeStream\n",
    "    .format(\"memory\")        \n",
    "    .queryName(\"professions\")     \n",
    "    .outputMode(\"complete\")  \n",
    "    .start()\n",
    ")"
   ]
  },
  {
   "cell_type": "code",
   "execution_count": null,
   "metadata": {
    "application/vnd.databricks.v1+cell": {
     "cellMetadata": {
      "byteLimit": 2048000,
      "implicitDf": true,
      "rowLimit": 10000
     },
     "inputWidgets": {},
     "nuid": "73fce17c-7953-4c2b-9d37-42e3981080a3",
     "showTitle": false,
     "title": ""
    }
   },
   "outputs": [
    {
     "data": {
      "text/html": [
       "<style scoped>\n",
       "  .table-result-container {\n",
       "    max-height: 300px;\n",
       "    overflow: auto;\n",
       "  }\n",
       "  table, th, td {\n",
       "    border: 1px solid black;\n",
       "    border-collapse: collapse;\n",
       "  }\n",
       "  th, td {\n",
       "    padding: 5px;\n",
       "  }\n",
       "  th {\n",
       "    text-align: left;\n",
       "  }\n",
       "</style><div class='table-result-container'><table class='table-result'><thead style='background-color: white'><tr><th>time</th><th>role</th><th>count</th></tr></thead><tbody><tr><td>Jul-26 09:00</td><td>Teacher</td><td>12</td></tr><tr><td>Jul-26 10:00</td><td>Student</td><td>11</td></tr><tr><td>Jul-26 04:00</td><td>Student</td><td>11</td></tr><tr><td>Jul-26 08:00</td><td>Musician</td><td>11</td></tr><tr><td>Jul-26 13:00</td><td>Nurse</td><td>11</td></tr><tr><td>Jul-26 11:00</td><td>Driver</td><td>11</td></tr><tr><td>Jul-26 09:00</td><td>Engineer</td><td>11</td></tr><tr><td>Jul-26 18:00</td><td>Student</td><td>11</td></tr><tr><td>Jul-26 06:00</td><td>Nurse</td><td>10</td></tr><tr><td>Jul-26 15:00</td><td>Chef</td><td>10</td></tr><tr><td>Jul-26 14:00</td><td>Doctor</td><td>10</td></tr><tr><td>Jul-26 17:00</td><td>Artist</td><td>10</td></tr><tr><td>Jul-26 10:00</td><td>Architect</td><td>10</td></tr><tr><td>Jul-26 15:00</td><td>Engineer</td><td>9</td></tr><tr><td>Jul-26 11:00</td><td>Chef</td><td>9</td></tr><tr><td>Jul-26 08:00</td><td>Driver</td><td>9</td></tr><tr><td>Jul-26 07:00</td><td>Doctor</td><td>9</td></tr><tr><td>Jul-26 11:00</td><td>Doctor</td><td>9</td></tr><tr><td>Jul-26 06:00</td><td>Student</td><td>9</td></tr><tr><td>Jul-26 15:00</td><td>Architect</td><td>9</td></tr><tr><td>Jul-26 14:00</td><td>Architect</td><td>9</td></tr><tr><td>Jul-26 10:00</td><td>Engineer</td><td>9</td></tr><tr><td>Jul-26 08:00</td><td>Doctor</td><td>9</td></tr><tr><td>Jul-26 07:00</td><td>Teacher</td><td>9</td></tr><tr><td>Jul-26 16:00</td><td>Nurse</td><td>9</td></tr><tr><td>Jul-26 12:00</td><td>Driver</td><td>8</td></tr><tr><td>Jul-26 12:00</td><td>Nurse</td><td>8</td></tr><tr><td>Jul-26 18:00</td><td>Nurse</td><td>8</td></tr><tr><td>Jul-26 17:00</td><td>Chef</td><td>8</td></tr><tr><td>Jul-26 13:00</td><td>Doctor</td><td>8</td></tr><tr><td>Jul-26 19:00</td><td>Musician</td><td>8</td></tr><tr><td>Jul-26 19:00</td><td>Student</td><td>8</td></tr><tr><td>Jul-26 16:00</td><td>Chef</td><td>8</td></tr><tr><td>Jul-26 13:00</td><td>Architect</td><td>8</td></tr><tr><td>Jul-26 12:00</td><td>Student</td><td>8</td></tr><tr><td>Jul-26 16:00</td><td>Teacher</td><td>8</td></tr><tr><td>Jul-26 07:00</td><td>Driver</td><td>8</td></tr><tr><td>Jul-26 13:00</td><td>Student</td><td>8</td></tr><tr><td>Jul-26 05:00</td><td>Nurse</td><td>8</td></tr><tr><td>Jul-26 18:00</td><td>Teacher</td><td>8</td></tr><tr><td>Jul-26 13:00</td><td>Teacher</td><td>8</td></tr><tr><td>Jul-26 19:00</td><td>Architect</td><td>8</td></tr><tr><td>Jul-26 04:00</td><td>Architect</td><td>8</td></tr><tr><td>Jul-26 05:00</td><td>Teacher</td><td>8</td></tr><tr><td>Jul-26 19:00</td><td>Teacher</td><td>8</td></tr><tr><td>Jul-26 16:00</td><td>Artist</td><td>8</td></tr><tr><td>Jul-26 06:00</td><td>Musician</td><td>8</td></tr><tr><td>Jul-26 11:00</td><td>Student</td><td>7</td></tr><tr><td>Jul-26 05:00</td><td>Doctor</td><td>7</td></tr><tr><td>Jul-26 19:00</td><td>Doctor</td><td>7</td></tr><tr><td>Jul-26 16:00</td><td>Architect</td><td>7</td></tr><tr><td>Jul-26 14:00</td><td>Chef</td><td>7</td></tr><tr><td>Jul-26 05:00</td><td>Driver</td><td>7</td></tr><tr><td>Jul-26 07:00</td><td>Architect</td><td>7</td></tr><tr><td>Jul-26 05:00</td><td>Architect</td><td>7</td></tr><tr><td>Jul-26 17:00</td><td>Student</td><td>7</td></tr><tr><td>Jul-26 06:00</td><td>Artist</td><td>7</td></tr><tr><td>Jul-26 04:00</td><td>Teacher</td><td>7</td></tr><tr><td>Jul-26 15:00</td><td>Musician</td><td>7</td></tr><tr><td>Jul-26 17:00</td><td>Architect</td><td>7</td></tr><tr><td>Jul-26 15:00</td><td>Nurse</td><td>7</td></tr><tr><td>Jul-26 12:00</td><td>Engineer</td><td>7</td></tr><tr><td>Jul-26 07:00</td><td>Student</td><td>7</td></tr><tr><td>Jul-26 17:00</td><td>Teacher</td><td>7</td></tr><tr><td>Jul-26 04:00</td><td>Doctor</td><td>7</td></tr><tr><td>Jul-26 08:00</td><td>Architect</td><td>7</td></tr><tr><td>Jul-26 09:00</td><td>Architect</td><td>7</td></tr><tr><td>Jul-26 05:00</td><td>Student</td><td>7</td></tr><tr><td>Jul-26 08:00</td><td>Student</td><td>6</td></tr><tr><td>Jul-26 04:00</td><td>Engineer</td><td>6</td></tr><tr><td>Jul-26 14:00</td><td>Engineer</td><td>6</td></tr><tr><td>Jul-26 06:00</td><td>Chef</td><td>6</td></tr><tr><td>Jul-26 18:00</td><td>Chef</td><td>6</td></tr><tr><td>Jul-26 10:00</td><td>Doctor</td><td>6</td></tr><tr><td>Jul-26 15:00</td><td>Student</td><td>6</td></tr><tr><td>Jul-26 18:00</td><td>Architect</td><td>6</td></tr><tr><td>Jul-26 12:00</td><td>Teacher</td><td>6</td></tr><tr><td>Jul-26 07:00</td><td>Musician</td><td>6</td></tr><tr><td>Jul-26 13:00</td><td>Driver</td><td>6</td></tr><tr><td>Jul-26 14:00</td><td>Teacher</td><td>6</td></tr><tr><td>Jul-26 12:00</td><td>Architect</td><td>6</td></tr><tr><td>Jul-26 11:00</td><td>Artist</td><td>6</td></tr><tr><td>Jul-26 14:00</td><td>Nurse</td><td>6</td></tr><tr><td>Jul-26 19:00</td><td>Engineer</td><td>6</td></tr><tr><td>Jul-26 17:00</td><td>Musician</td><td>6</td></tr><tr><td>Jul-26 12:00</td><td>Doctor</td><td>6</td></tr><tr><td>Jul-26 08:00</td><td>Engineer</td><td>6</td></tr><tr><td>Jul-26 05:00</td><td>Engineer</td><td>5</td></tr><tr><td>Jul-26 17:00</td><td>Engineer</td><td>5</td></tr><tr><td>Jul-26 14:00</td><td>Musician</td><td>5</td></tr><tr><td>Jul-26 06:00</td><td>Engineer</td><td>5</td></tr><tr><td>Jul-26 09:00</td><td>Driver</td><td>5</td></tr><tr><td>Jul-26 11:00</td><td>Engineer</td><td>5</td></tr><tr><td>Jul-26 10:00</td><td>Artist</td><td>5</td></tr><tr><td>Jul-26 18:00</td><td>Engineer</td><td>5</td></tr><tr><td>Jul-26 09:00</td><td>Chef</td><td>5</td></tr><tr><td>Jul-26 17:00</td><td>Nurse</td><td>5</td></tr><tr><td>Jul-26 03:00</td><td>Nurse</td><td>5</td></tr><tr><td>Jul-26 06:00</td><td>Driver</td><td>5</td></tr><tr><td>Jul-26 16:00</td><td>Engineer</td><td>5</td></tr><tr><td>Jul-26 10:00</td><td>Musician</td><td>5</td></tr><tr><td>Jul-26 14:00</td><td>Artist</td><td>5</td></tr><tr><td>Jul-26 16:00</td><td>Student</td><td>5</td></tr><tr><td>Jul-26 18:00</td><td>Artist</td><td>5</td></tr><tr><td>Jul-26 04:00</td><td>Artist</td><td>5</td></tr><tr><td>Jul-26 06:00</td><td>Architect</td><td>5</td></tr><tr><td>Jul-26 09:00</td><td>Nurse</td><td>5</td></tr><tr><td>Jul-26 04:00</td><td>Nurse</td><td>5</td></tr><tr><td>Jul-26 16:00</td><td>Driver</td><td>5</td></tr><tr><td>Jul-26 10:00</td><td>Chef</td><td>5</td></tr><tr><td>Jul-26 09:00</td><td>Doctor</td><td>4</td></tr><tr><td>Jul-26 04:00</td><td>Musician</td><td>4</td></tr><tr><td>Jul-26 07:00</td><td>Chef</td><td>4</td></tr><tr><td>Jul-26 09:00</td><td>Artist</td><td>4</td></tr><tr><td>Jul-26 09:00</td><td>Student</td><td>4</td></tr><tr><td>Jul-26 12:00</td><td>Musician</td><td>4</td></tr><tr><td>Jul-26 04:00</td><td>Driver</td><td>4</td></tr><tr><td>Jul-26 05:00</td><td>Artist</td><td>4</td></tr><tr><td>Jul-26 18:00</td><td>Doctor</td><td>4</td></tr><tr><td>Jul-26 20:00</td><td>Artist</td><td>4</td></tr><tr><td>Jul-26 15:00</td><td>Doctor</td><td>4</td></tr><tr><td>Jul-26 19:00</td><td>Nurse</td><td>4</td></tr><tr><td>Jul-26 18:00</td><td>Musician</td><td>4</td></tr><tr><td>Jul-26 12:00</td><td>Chef</td><td>4</td></tr><tr><td>Jul-26 06:00</td><td>Doctor</td><td>4</td></tr><tr><td>Jul-26 13:00</td><td>Engineer</td><td>4</td></tr><tr><td>Jul-26 05:00</td><td>Chef</td><td>4</td></tr><tr><td>Jul-26 14:00</td><td>Driver</td><td>4</td></tr><tr><td>Jul-26 10:00</td><td>Teacher</td><td>4</td></tr><tr><td>Jul-26 07:00</td><td>Engineer</td><td>4</td></tr><tr><td>Jul-26 19:00</td><td>Driver</td><td>4</td></tr><tr><td>Jul-26 11:00</td><td>Nurse</td><td>4</td></tr><tr><td>Jul-26 15:00</td><td>Artist</td><td>4</td></tr><tr><td>Jul-26 19:00</td><td>Artist</td><td>4</td></tr><tr><td>Jul-26 11:00</td><td>Teacher</td><td>4</td></tr><tr><td>Jul-26 13:00</td><td>Chef</td><td>3</td></tr><tr><td>Jul-26 05:00</td><td>Musician</td><td>3</td></tr><tr><td>Jul-26 20:00</td><td>Doctor</td><td>3</td></tr><tr><td>Jul-26 07:00</td><td>Artist</td><td>3</td></tr><tr><td>Jul-26 20:00</td><td>Chef</td><td>3</td></tr><tr><td>Jul-26 10:00</td><td>Nurse</td><td>3</td></tr><tr><td>Jul-26 16:00</td><td>Musician</td><td>3</td></tr><tr><td>Jul-26 13:00</td><td>Artist</td><td>3</td></tr><tr><td>Jul-26 09:00</td><td>Musician</td><td>3</td></tr><tr><td>Jul-26 08:00</td><td>Chef</td><td>3</td></tr><tr><td>Jul-26 18:00</td><td>Driver</td><td>3</td></tr><tr><td>Jul-26 07:00</td><td>Nurse</td><td>3</td></tr><tr><td>Jul-26 20:00</td><td>Architect</td><td>3</td></tr><tr><td>Jul-26 08:00</td><td>Artist</td><td>3</td></tr><tr><td>Jul-26 12:00</td><td>Artist</td><td>3</td></tr><tr><td>Jul-26 11:00</td><td>Musician</td><td>3</td></tr><tr><td>Jul-26 20:00</td><td>Driver</td><td>3</td></tr><tr><td>Jul-26 08:00</td><td>Nurse</td><td>3</td></tr><tr><td>Jul-26 17:00</td><td>Doctor</td><td>3</td></tr><tr><td>Jul-26 20:00</td><td>Musician</td><td>3</td></tr><tr><td>Jul-26 19:00</td><td>Chef</td><td>3</td></tr><tr><td>Jul-26 04:00</td><td>Chef</td><td>3</td></tr><tr><td>Jul-26 08:00</td><td>Teacher</td><td>3</td></tr><tr><td>Jul-26 11:00</td><td>Architect</td><td>2</td></tr><tr><td>Jul-26 15:00</td><td>Teacher</td><td>2</td></tr><tr><td>Jul-26 15:00</td><td>Driver</td><td>2</td></tr><tr><td>Jul-26 20:00</td><td>Student</td><td>2</td></tr><tr><td>Jul-26 17:00</td><td>Driver</td><td>2</td></tr><tr><td>Jul-26 03:00</td><td>Chef</td><td>2</td></tr><tr><td>Jul-26 14:00</td><td>Student</td><td>2</td></tr><tr><td>Jul-26 10:00</td><td>Driver</td><td>2</td></tr><tr><td>Jul-26 20:00</td><td>Engineer</td><td>2</td></tr><tr><td>Jul-26 03:00</td><td>Artist</td><td>2</td></tr><tr><td>Jul-26 16:00</td><td>Doctor</td><td>2</td></tr><tr><td>Jul-26 20:00</td><td>Teacher</td><td>2</td></tr><tr><td>Jul-26 03:00</td><td>Doctor</td><td>1</td></tr><tr><td>Jul-26 13:00</td><td>Musician</td><td>1</td></tr><tr><td>Jul-26 06:00</td><td>Teacher</td><td>1</td></tr><tr><td>Jul-26 03:00</td><td>Engineer</td><td>1</td></tr><tr><td>Jul-26 03:00</td><td>Architect</td><td>1</td></tr><tr><td>Jul-26 03:00</td><td>Musician</td><td>1</td></tr><tr><td>Jul-26 03:00</td><td>Driver</td><td>1</td></tr><tr><td>Jul-26 03:00</td><td>Student</td><td>1</td></tr></tbody></table></div>"
      ]
     },
     "metadata": {
      "application/vnd.databricks.v1+output": {
       "addedWidgets": {},
       "aggData": [],
       "aggError": "",
       "aggOverflow": false,
       "aggSchema": [],
       "aggSeriesLimitReached": false,
       "aggType": "",
       "arguments": {},
       "columnCustomDisplayInfos": {},
       "data": [
        [
         "Jul-26 09:00",
         "Teacher",
         12
        ],
        [
         "Jul-26 10:00",
         "Student",
         11
        ],
        [
         "Jul-26 04:00",
         "Student",
         11
        ],
        [
         "Jul-26 08:00",
         "Musician",
         11
        ],
        [
         "Jul-26 13:00",
         "Nurse",
         11
        ],
        [
         "Jul-26 11:00",
         "Driver",
         11
        ],
        [
         "Jul-26 09:00",
         "Engineer",
         11
        ],
        [
         "Jul-26 18:00",
         "Student",
         11
        ],
        [
         "Jul-26 06:00",
         "Nurse",
         10
        ],
        [
         "Jul-26 15:00",
         "Chef",
         10
        ],
        [
         "Jul-26 14:00",
         "Doctor",
         10
        ],
        [
         "Jul-26 17:00",
         "Artist",
         10
        ],
        [
         "Jul-26 10:00",
         "Architect",
         10
        ],
        [
         "Jul-26 15:00",
         "Engineer",
         9
        ],
        [
         "Jul-26 11:00",
         "Chef",
         9
        ],
        [
         "Jul-26 08:00",
         "Driver",
         9
        ],
        [
         "Jul-26 07:00",
         "Doctor",
         9
        ],
        [
         "Jul-26 11:00",
         "Doctor",
         9
        ],
        [
         "Jul-26 06:00",
         "Student",
         9
        ],
        [
         "Jul-26 15:00",
         "Architect",
         9
        ],
        [
         "Jul-26 14:00",
         "Architect",
         9
        ],
        [
         "Jul-26 10:00",
         "Engineer",
         9
        ],
        [
         "Jul-26 08:00",
         "Doctor",
         9
        ],
        [
         "Jul-26 07:00",
         "Teacher",
         9
        ],
        [
         "Jul-26 16:00",
         "Nurse",
         9
        ],
        [
         "Jul-26 12:00",
         "Driver",
         8
        ],
        [
         "Jul-26 12:00",
         "Nurse",
         8
        ],
        [
         "Jul-26 18:00",
         "Nurse",
         8
        ],
        [
         "Jul-26 17:00",
         "Chef",
         8
        ],
        [
         "Jul-26 13:00",
         "Doctor",
         8
        ],
        [
         "Jul-26 19:00",
         "Musician",
         8
        ],
        [
         "Jul-26 19:00",
         "Student",
         8
        ],
        [
         "Jul-26 16:00",
         "Chef",
         8
        ],
        [
         "Jul-26 13:00",
         "Architect",
         8
        ],
        [
         "Jul-26 12:00",
         "Student",
         8
        ],
        [
         "Jul-26 16:00",
         "Teacher",
         8
        ],
        [
         "Jul-26 07:00",
         "Driver",
         8
        ],
        [
         "Jul-26 13:00",
         "Student",
         8
        ],
        [
         "Jul-26 05:00",
         "Nurse",
         8
        ],
        [
         "Jul-26 18:00",
         "Teacher",
         8
        ],
        [
         "Jul-26 13:00",
         "Teacher",
         8
        ],
        [
         "Jul-26 19:00",
         "Architect",
         8
        ],
        [
         "Jul-26 04:00",
         "Architect",
         8
        ],
        [
         "Jul-26 05:00",
         "Teacher",
         8
        ],
        [
         "Jul-26 19:00",
         "Teacher",
         8
        ],
        [
         "Jul-26 16:00",
         "Artist",
         8
        ],
        [
         "Jul-26 06:00",
         "Musician",
         8
        ],
        [
         "Jul-26 11:00",
         "Student",
         7
        ],
        [
         "Jul-26 05:00",
         "Doctor",
         7
        ],
        [
         "Jul-26 19:00",
         "Doctor",
         7
        ],
        [
         "Jul-26 16:00",
         "Architect",
         7
        ],
        [
         "Jul-26 14:00",
         "Chef",
         7
        ],
        [
         "Jul-26 05:00",
         "Driver",
         7
        ],
        [
         "Jul-26 07:00",
         "Architect",
         7
        ],
        [
         "Jul-26 05:00",
         "Architect",
         7
        ],
        [
         "Jul-26 17:00",
         "Student",
         7
        ],
        [
         "Jul-26 06:00",
         "Artist",
         7
        ],
        [
         "Jul-26 04:00",
         "Teacher",
         7
        ],
        [
         "Jul-26 15:00",
         "Musician",
         7
        ],
        [
         "Jul-26 17:00",
         "Architect",
         7
        ],
        [
         "Jul-26 15:00",
         "Nurse",
         7
        ],
        [
         "Jul-26 12:00",
         "Engineer",
         7
        ],
        [
         "Jul-26 07:00",
         "Student",
         7
        ],
        [
         "Jul-26 17:00",
         "Teacher",
         7
        ],
        [
         "Jul-26 04:00",
         "Doctor",
         7
        ],
        [
         "Jul-26 08:00",
         "Architect",
         7
        ],
        [
         "Jul-26 09:00",
         "Architect",
         7
        ],
        [
         "Jul-26 05:00",
         "Student",
         7
        ],
        [
         "Jul-26 08:00",
         "Student",
         6
        ],
        [
         "Jul-26 04:00",
         "Engineer",
         6
        ],
        [
         "Jul-26 14:00",
         "Engineer",
         6
        ],
        [
         "Jul-26 06:00",
         "Chef",
         6
        ],
        [
         "Jul-26 18:00",
         "Chef",
         6
        ],
        [
         "Jul-26 10:00",
         "Doctor",
         6
        ],
        [
         "Jul-26 15:00",
         "Student",
         6
        ],
        [
         "Jul-26 18:00",
         "Architect",
         6
        ],
        [
         "Jul-26 12:00",
         "Teacher",
         6
        ],
        [
         "Jul-26 07:00",
         "Musician",
         6
        ],
        [
         "Jul-26 13:00",
         "Driver",
         6
        ],
        [
         "Jul-26 14:00",
         "Teacher",
         6
        ],
        [
         "Jul-26 12:00",
         "Architect",
         6
        ],
        [
         "Jul-26 11:00",
         "Artist",
         6
        ],
        [
         "Jul-26 14:00",
         "Nurse",
         6
        ],
        [
         "Jul-26 19:00",
         "Engineer",
         6
        ],
        [
         "Jul-26 17:00",
         "Musician",
         6
        ],
        [
         "Jul-26 12:00",
         "Doctor",
         6
        ],
        [
         "Jul-26 08:00",
         "Engineer",
         6
        ],
        [
         "Jul-26 05:00",
         "Engineer",
         5
        ],
        [
         "Jul-26 17:00",
         "Engineer",
         5
        ],
        [
         "Jul-26 14:00",
         "Musician",
         5
        ],
        [
         "Jul-26 06:00",
         "Engineer",
         5
        ],
        [
         "Jul-26 09:00",
         "Driver",
         5
        ],
        [
         "Jul-26 11:00",
         "Engineer",
         5
        ],
        [
         "Jul-26 10:00",
         "Artist",
         5
        ],
        [
         "Jul-26 18:00",
         "Engineer",
         5
        ],
        [
         "Jul-26 09:00",
         "Chef",
         5
        ],
        [
         "Jul-26 17:00",
         "Nurse",
         5
        ],
        [
         "Jul-26 03:00",
         "Nurse",
         5
        ],
        [
         "Jul-26 06:00",
         "Driver",
         5
        ],
        [
         "Jul-26 16:00",
         "Engineer",
         5
        ],
        [
         "Jul-26 10:00",
         "Musician",
         5
        ],
        [
         "Jul-26 14:00",
         "Artist",
         5
        ],
        [
         "Jul-26 16:00",
         "Student",
         5
        ],
        [
         "Jul-26 18:00",
         "Artist",
         5
        ],
        [
         "Jul-26 04:00",
         "Artist",
         5
        ],
        [
         "Jul-26 06:00",
         "Architect",
         5
        ],
        [
         "Jul-26 09:00",
         "Nurse",
         5
        ],
        [
         "Jul-26 04:00",
         "Nurse",
         5
        ],
        [
         "Jul-26 16:00",
         "Driver",
         5
        ],
        [
         "Jul-26 10:00",
         "Chef",
         5
        ],
        [
         "Jul-26 09:00",
         "Doctor",
         4
        ],
        [
         "Jul-26 04:00",
         "Musician",
         4
        ],
        [
         "Jul-26 07:00",
         "Chef",
         4
        ],
        [
         "Jul-26 09:00",
         "Artist",
         4
        ],
        [
         "Jul-26 09:00",
         "Student",
         4
        ],
        [
         "Jul-26 12:00",
         "Musician",
         4
        ],
        [
         "Jul-26 04:00",
         "Driver",
         4
        ],
        [
         "Jul-26 05:00",
         "Artist",
         4
        ],
        [
         "Jul-26 18:00",
         "Doctor",
         4
        ],
        [
         "Jul-26 20:00",
         "Artist",
         4
        ],
        [
         "Jul-26 15:00",
         "Doctor",
         4
        ],
        [
         "Jul-26 19:00",
         "Nurse",
         4
        ],
        [
         "Jul-26 18:00",
         "Musician",
         4
        ],
        [
         "Jul-26 12:00",
         "Chef",
         4
        ],
        [
         "Jul-26 06:00",
         "Doctor",
         4
        ],
        [
         "Jul-26 13:00",
         "Engineer",
         4
        ],
        [
         "Jul-26 05:00",
         "Chef",
         4
        ],
        [
         "Jul-26 14:00",
         "Driver",
         4
        ],
        [
         "Jul-26 10:00",
         "Teacher",
         4
        ],
        [
         "Jul-26 07:00",
         "Engineer",
         4
        ],
        [
         "Jul-26 19:00",
         "Driver",
         4
        ],
        [
         "Jul-26 11:00",
         "Nurse",
         4
        ],
        [
         "Jul-26 15:00",
         "Artist",
         4
        ],
        [
         "Jul-26 19:00",
         "Artist",
         4
        ],
        [
         "Jul-26 11:00",
         "Teacher",
         4
        ],
        [
         "Jul-26 13:00",
         "Chef",
         3
        ],
        [
         "Jul-26 05:00",
         "Musician",
         3
        ],
        [
         "Jul-26 20:00",
         "Doctor",
         3
        ],
        [
         "Jul-26 07:00",
         "Artist",
         3
        ],
        [
         "Jul-26 20:00",
         "Chef",
         3
        ],
        [
         "Jul-26 10:00",
         "Nurse",
         3
        ],
        [
         "Jul-26 16:00",
         "Musician",
         3
        ],
        [
         "Jul-26 13:00",
         "Artist",
         3
        ],
        [
         "Jul-26 09:00",
         "Musician",
         3
        ],
        [
         "Jul-26 08:00",
         "Chef",
         3
        ],
        [
         "Jul-26 18:00",
         "Driver",
         3
        ],
        [
         "Jul-26 07:00",
         "Nurse",
         3
        ],
        [
         "Jul-26 20:00",
         "Architect",
         3
        ],
        [
         "Jul-26 08:00",
         "Artist",
         3
        ],
        [
         "Jul-26 12:00",
         "Artist",
         3
        ],
        [
         "Jul-26 11:00",
         "Musician",
         3
        ],
        [
         "Jul-26 20:00",
         "Driver",
         3
        ],
        [
         "Jul-26 08:00",
         "Nurse",
         3
        ],
        [
         "Jul-26 17:00",
         "Doctor",
         3
        ],
        [
         "Jul-26 20:00",
         "Musician",
         3
        ],
        [
         "Jul-26 19:00",
         "Chef",
         3
        ],
        [
         "Jul-26 04:00",
         "Chef",
         3
        ],
        [
         "Jul-26 08:00",
         "Teacher",
         3
        ],
        [
         "Jul-26 11:00",
         "Architect",
         2
        ],
        [
         "Jul-26 15:00",
         "Teacher",
         2
        ],
        [
         "Jul-26 15:00",
         "Driver",
         2
        ],
        [
         "Jul-26 20:00",
         "Student",
         2
        ],
        [
         "Jul-26 17:00",
         "Driver",
         2
        ],
        [
         "Jul-26 03:00",
         "Chef",
         2
        ],
        [
         "Jul-26 14:00",
         "Student",
         2
        ],
        [
         "Jul-26 10:00",
         "Driver",
         2
        ],
        [
         "Jul-26 20:00",
         "Engineer",
         2
        ],
        [
         "Jul-26 03:00",
         "Artist",
         2
        ],
        [
         "Jul-26 16:00",
         "Doctor",
         2
        ],
        [
         "Jul-26 20:00",
         "Teacher",
         2
        ],
        [
         "Jul-26 03:00",
         "Doctor",
         1
        ],
        [
         "Jul-26 13:00",
         "Musician",
         1
        ],
        [
         "Jul-26 06:00",
         "Teacher",
         1
        ],
        [
         "Jul-26 03:00",
         "Engineer",
         1
        ],
        [
         "Jul-26 03:00",
         "Architect",
         1
        ],
        [
         "Jul-26 03:00",
         "Musician",
         1
        ],
        [
         "Jul-26 03:00",
         "Driver",
         1
        ],
        [
         "Jul-26 03:00",
         "Student",
         1
        ]
       ],
       "datasetInfos": [],
       "dbfsResultPath": null,
       "isJsonSchema": true,
       "metadata": {},
       "overflow": false,
       "plotOptions": {
        "customPlotOptions": {},
        "displayType": "table",
        "pivotAggregation": null,
        "pivotColumns": null,
        "xColumns": null,
        "yColumns": null
       },
       "removedWidgets": [],
       "schema": [
        {
         "metadata": "{}",
         "name": "time",
         "type": "\"string\""
        },
        {
         "metadata": "{}",
         "name": "role",
         "type": "\"string\""
        },
        {
         "metadata": "{}",
         "name": "count",
         "type": "\"long\""
        }
       ],
       "type": "table"
      }
     },
     "output_type": "display_data"
    }
   ],
   "source": [
    "\n",
    "%sql \n",
    "SELECT \n",
    " date_format(window.end, \"MMM-dd HH:mm\") as time\n",
    ",role \n",
    ",count\n",
    "FROM professions \n",
    "ORDER BY count DESC\n"
   ]
  },
  {
   "cell_type": "code",
   "execution_count": null,
   "metadata": {
    "application/vnd.databricks.v1+cell": {
     "cellMetadata": {},
     "inputWidgets": {},
     "nuid": "b0de3aaf-6425-4e70-b685-1ea44bc8bae9",
     "showTitle": false,
     "title": ""
    }
   },
   "outputs": [],
   "source": []
  }
 ],
 "metadata": {
  "application/vnd.databricks.v1+notebook": {
   "dashboards": [],
   "language": "python",
   "notebookMetadata": {
    "mostRecentlyExecutedCommandWithImplicitDF": {
     "commandId": 166278508279296,
     "dataframes": [
      "_sqldf"
     ]
    },
    "pythonIndentUnit": 4
   },
   "notebookName": "spark_streaming_sample2024-03-20 11:35:28",
   "widgets": {}
  },
  "kernelspec": {
   "display_name": "Python 3",
   "language": "python",
   "name": "python3"
  },
  "language_info": {
   "codemirror_mode": {
    "name": "ipython",
    "version": 3
   },
   "file_extension": ".py",
   "mimetype": "text/x-python",
   "name": "python",
   "nbconvert_exporter": "python",
   "pygments_lexer": "ipython3",
   "version": "3.9.6"
  }
 },
 "nbformat": 4,
 "nbformat_minor": 0
}
